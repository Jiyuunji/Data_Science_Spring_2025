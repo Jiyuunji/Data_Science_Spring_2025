{
  "cells": [
    {
      "cell_type": "markdown",
      "metadata": {
        "id": "view-in-github",
        "colab_type": "text"
      },
      "source": [
        "<a href=\"https://colab.research.google.com/github/Jiyuunji/Data_Science_Spring_2025/blob/main/U24105938_Activity3.ipynb\" target=\"_parent\"><img src=\"https://colab.research.google.com/assets/colab-badge.svg\" alt=\"Open In Colab\"/></a>"
      ]
    },
    {
      "cell_type": "markdown",
      "metadata": {
        "id": "9Hr2lLFuZjja"
      },
      "source": [
        "# <font color = blue size = 6> **Activity #3 (5 marks)**"
      ]
    },
    {
      "cell_type": "markdown",
      "metadata": {
        "id": "bEtXiTwI-yIv"
      },
      "source": [
        "\n",
        "<font color = green size = 5> **Activity: Air Quality Analysis in NYC**"
      ]
    },
    {
      "cell_type": "markdown",
      "metadata": {
        "id": "6i3-zemYyZAu"
      },
      "source": [
        "# Objective:\n",
        "- **Objective:**  \n",
        "The goal of this assignment is to analyze air quality data collected from low-cost sensors mounted on moving vehicles in New York City. Using the concepts learned in the chapters on Sampling and Empirical Distributions , Testing Hypotheses , and Estimation , you will perform statistical analysis to estimate pollution levels, test hypotheses about differences in pollution across neighborhoods, and construct confidence intervals for key parameters.\n",
        "\n",
        "You are provided with a `Datascience` `Table` named `joined_table`, which contains air quality readings (`pm10`) and their corresponding administrative divisions (neighborhoods) in NYC. The table has been preprocessed and joined with neighborhood boundaries using geospatial operations. Your task is to perform all subsequent tasks using the `Datascience` Table abstraction as taught in class."
      ]
    },
    {
      "cell_type": "markdown",
      "metadata": {
        "id": "MnPCkUN9-lzy"
      },
      "source": [
        "given a csv file containing longitude, latitude , and pm10  columns [Air Quality data](https://raw.githubusercontent.com/IsamAljawarneh/datasets/master/data/NYC_PM.csv) representing readings of low cost air quality sensor mounted on moving vehicles, in addition to a geojson file containing polygons representing administrative divisions of NYC city known as neighbourhoods [nyc_polygon.geojson](https://raw.githubusercontent.com/IsamAljawarneh/datasets/master/data/nyc_polygon.geojson).\n",
        "# Dataset Description\n",
        "- Air Quality Sensor Readings (NYC_PM.csv) :\n",
        "Attributes: SensorID, time, temperature, humidity, pm25,\n",
        "Focus attributes: temperature, humidity, pm1,pm25,pm10,\n",
        "- City Polygons (nyc_polygon.geojson) :\n",
        "Contains polygons representing neighborhoods or boroughs in NYC.\n",
        "Used for spatially joining geographic information with air quality data."
      ]
    },
    {
      "cell_type": "markdown",
      "metadata": {
        "id": "_kuVRsJkAh9n"
      },
      "source": [
        "## **part - A** preprocessing [0 marks]\n",
        "\n",
        "do all tasks and the subtasks!"
      ]
    },
    {
      "cell_type": "markdown",
      "metadata": {
        "id": "cXRH1R-SzPAs"
      },
      "source": [
        "# Onboarding Code Provided\n",
        "- The following code will be provided in an onboarding Jupyter Notebook to help students get started:\n",
        "\n"
      ]
    },
    {
      "cell_type": "code",
      "execution_count": null,
      "metadata": {
        "colab": {
          "base_uri": "https://localhost:8080/",
          "height": 36
        },
        "id": "R4ArO-FctZIu",
        "outputId": "9a81603c-6c0f-4f9c-aef6-5cbeb860de2b"
      },
      "outputs": [
        {
          "data": {
            "text/plain": [
              "\"from google.colab import drive\\ndrive.mount('/content/drive')\""
            ]
          },
          "execution_count": 1,
          "metadata": {},
          "output_type": "execute_result"
        }
      ],
      "source": [
        "'''from google.colab import drive\n",
        "drive.mount('/content/drive')'''"
      ]
    },
    {
      "cell_type": "markdown",
      "metadata": {
        "id": "9o9eM8IICM-1"
      },
      "source": [
        "import necessary libraries"
      ]
    },
    {
      "cell_type": "code",
      "execution_count": null,
      "metadata": {
        "id": "DIyY1q36ta3G",
        "outputId": "549fcbf8-21f6-40e6-d758-5521eb421f95"
      },
      "outputs": [
        {
          "name": "stderr",
          "output_type": "stream",
          "text": [
            "/home/unknown/.local/lib/python3.10/site-packages/matplotlib/projections/__init__.py:63: UserWarning: Unable to import Axes3D. This may be due to multiple versions of Matplotlib being installed (e.g. as a system package and as a pip package). As a result, the 3D projection is not available.\n",
            "  warnings.warn(\"Unable to import Axes3D. This may be due to multiple versions of \"\n"
          ]
        }
      ],
      "source": [
        "import pandas as pd\n",
        "import geopandas as gpd\n",
        "import numpy as np\n",
        "import matplotlib.pyplot as plt"
      ]
    },
    {
      "cell_type": "code",
      "execution_count": null,
      "metadata": {
        "id": "8ipkPRynmWGz"
      },
      "outputs": [],
      "source": [
        "from datascience import *\n",
        "%matplotlib inline\n",
        "#path_data = '../../../assets/data/'\n",
        "import matplotlib.pyplot as plt\n",
        "plt.style.use('fivethirtyeight')\n",
        "import numpy as np"
      ]
    },
    {
      "cell_type": "markdown",
      "metadata": {
        "id": "11VvbD-a6ur8"
      },
      "source": [
        "###1. Read the CSV file containing PM sensor readings\n",
        " & Read the GeoJSON file containing neighborhood boundaries into a GeoDataFrame"
      ]
    },
    {
      "cell_type": "code",
      "execution_count": null,
      "metadata": {
        "id": "CYk7KfJqueQW"
      },
      "outputs": [],
      "source": [
        "\n",
        "# Step 1: Read the CSV file containing PM10 sensor readings\n",
        "pm10_data = pd.read_csv('https://raw.githubusercontent.com/IsamAljawarneh/datasets/master/data/NYC_PM.csv',index_col=False)\n",
        "\n",
        "# Step 2: Read the GeoJSON file containing neighborhood boundaries into a GeoDataFrame\n",
        "nyc_neighborhoods = gpd.read_file('https://raw.githubusercontent.com/IsamAljawarneh/datasets/master/data/nyc_polygon.geojson')\n"
      ]
    },
    {
      "cell_type": "code",
      "execution_count": null,
      "metadata": {
        "id": "VAMLIDAKu289"
      },
      "outputs": [],
      "source": [
        "#pm10_data.dtypes"
      ]
    },
    {
      "cell_type": "markdown",
      "metadata": {
        "id": "tKKuGLIl682s"
      },
      "source": [
        "### 2. convert the csv into a geodataframe and join it (sjoin) with the geojson, assign a coordinate reference system (CRS) the csv geodataframe which is identical to that of the geojson file, then perform the join, the result is a geodataframe, convert it to dataframe, and select pm10, neighborhood columns in a new dataframe"
      ]
    },
    {
      "cell_type": "code",
      "execution_count": null,
      "metadata": {
        "colab": {
          "base_uri": "https://localhost:8080/"
        },
        "id": "LDdZ3JM9vABk",
        "outputId": "256026e9-7089-4322-8577-9a4f4d57642b"
      },
      "outputs": [
        {
          "name": "stderr",
          "output_type": "stream",
          "text": [
            "/tmp/ipykernel_6459/2270405838.py:2: UserWarning: CRS mismatch between the CRS of left geometries and the CRS of right geometries.\n",
            "Use `to_crs()` to reproject one of the input geometries to match the CRS of the other.\n",
            "\n",
            "Left CRS: None\n",
            "Right CRS: EPSG:4326\n",
            "\n",
            "  merged_data = gpd.sjoin(pm10_gdf, nyc_neighborhoods, how='inner', predicate='within')\n"
          ]
        }
      ],
      "source": [
        "pm10_gdf = gpd.GeoDataFrame(pm10_data, geometry=gpd.points_from_xy(pm10_data.longitude, pm10_data.latitude))\n",
        "merged_data = gpd.sjoin(pm10_gdf, nyc_neighborhoods, how='inner', predicate='within')"
      ]
    },
    {
      "cell_type": "code",
      "execution_count": null,
      "metadata": {
        "id": "4YTL56jpvPDW"
      },
      "outputs": [],
      "source": [
        "#merged_data.dtypes"
      ]
    },
    {
      "cell_type": "code",
      "execution_count": null,
      "metadata": {
        "id": "1XPU0kp4hwnf"
      },
      "outputs": [],
      "source": [
        "pollution_data = merged_data[['pm10','neighborhood']]"
      ]
    },
    {
      "cell_type": "code",
      "execution_count": null,
      "metadata": {
        "colab": {
          "base_uri": "https://localhost:8080/"
        },
        "id": "T3gx_my1iAoi",
        "outputId": "0ceb7686-5f4b-47af-e93a-646e5dd0a2f6"
      },
      "outputs": [
        {
          "data": {
            "text/plain": [
              "118495"
            ]
          },
          "execution_count": 9,
          "metadata": {},
          "output_type": "execute_result"
        }
      ],
      "source": [
        "pollution_data.shape[0]"
      ]
    },
    {
      "cell_type": "code",
      "execution_count": null,
      "metadata": {
        "id": "P4M9bOYqy09e"
      },
      "outputs": [],
      "source": [
        "#merged_data.rename(columns={'neighborhood': 'neighborhood1'}, inplace=True)"
      ]
    },
    {
      "cell_type": "code",
      "execution_count": null,
      "metadata": {
        "colab": {
          "base_uri": "https://localhost:8080/",
          "height": 203
        },
        "id": "a8C-waCXk8JE",
        "outputId": "45a8d50a-97d0-42a0-c7d8-0cf20c0e2be1"
      },
      "outputs": [
        {
          "data": {
            "text/plain": [
              "pandas.core.frame.DataFrame"
            ]
          },
          "execution_count": 11,
          "metadata": {},
          "output_type": "execute_result"
        }
      ],
      "source": [
        "type(pollution_data)"
      ]
    },
    {
      "cell_type": "markdown",
      "metadata": {
        "id": "ajH-jZyp8neJ"
      },
      "source": [
        "3. you need to convert</h1></section> from dataframe to Datascience Table. Use the following format: ```Table.from_df(df, keep_index=False)``` read more here\n",
        "[create DS Table from DF](https://www.data8.org/datascience/_autosummary/datascience.tables.Table.from_df.html)\n",
        "\n",
        "**N.B.** <font color='red'>NOW, perform all tasks using the table abstraction as we have learned in the class!</font>"
      ]
    },
    {
      "cell_type": "markdown",
      "metadata": {
        "id": "ansU7tkQ9cj5"
      },
      "source": [
        "the following is the opposite:\n",
        "\n",
        "[Table.to_df](https://www.data8.org/datascience/_autosummary/datascience.tables.Table.to_df.html)"
      ]
    },
    {
      "cell_type": "markdown",
      "metadata": {
        "id": "2zHvKSpo7nX0"
      },
      "source": [
        "what is the maximum pm10 value"
      ]
    },
    {
      "cell_type": "code",
      "execution_count": null,
      "metadata": {
        "colab": {
          "base_uri": "https://localhost:8080/"
        },
        "id": "A-Ikgdphzdha",
        "outputId": "80eccfdd-5a77-48a7-83db-d009bcabf069"
      },
      "outputs": [
        {
          "data": {
            "text/plain": [
              "87341.710000000006"
            ]
          },
          "execution_count": 12,
          "metadata": {},
          "output_type": "execute_result"
        }
      ],
      "source": [
        "pollution_data['pm10'].max()"
      ]
    },
    {
      "cell_type": "markdown",
      "metadata": {
        "id": "RgKB2UJo7rWW"
      },
      "source": [
        "what is the maximum pm10 value"
      ]
    },
    {
      "cell_type": "code",
      "execution_count": null,
      "metadata": {
        "colab": {
          "base_uri": "https://localhost:8080/"
        },
        "id": "qqANkwbXzmF5",
        "outputId": "87a1032c-eaf5-45a1-a46c-535c0eaaff49"
      },
      "outputs": [
        {
          "data": {
            "text/plain": [
              "0.0"
            ]
          },
          "execution_count": 13,
          "metadata": {},
          "output_type": "execute_result"
        }
      ],
      "source": [
        "pollution_data['pm10'].min()"
      ]
    },
    {
      "cell_type": "code",
      "execution_count": null,
      "metadata": {
        "id": "zsjLIScVmM9a"
      },
      "outputs": [],
      "source": [
        "joined_table = Table().from_df(pollution_data)"
      ]
    },
    {
      "cell_type": "markdown",
      "metadata": {
        "id": "KsUXysj_B1T9"
      },
      "source": [
        "show the first few rows of the table?"
      ]
    },
    {
      "cell_type": "code",
      "execution_count": null,
      "metadata": {
        "colab": {
          "base_uri": "https://localhost:8080/",
          "height": 141
        },
        "id": "lhgoak8vzEfS",
        "outputId": "9073dd57-f354-484e-a375-be257b93b53b"
      },
      "outputs": [
        {
          "data": {
            "text/html": [
              "<table border=\"1\" class=\"dataframe\">\n",
              "    <thead>\n",
              "        <tr>\n",
              "            <th>pm10</th> <th>neighborhood</th>\n",
              "        </tr>\n",
              "    </thead>\n",
              "    <tbody>\n",
              "        <tr>\n",
              "            <td>11.35</td> <td>Bronx Park  </td>\n",
              "        </tr>\n",
              "        <tr>\n",
              "            <td>1.18 </td> <td>Bronx Park  </td>\n",
              "        </tr>\n",
              "    </tbody>\n",
              "</table>\n",
              "<p>... (118493 rows omitted)</p>"
            ],
            "text/plain": [
              "<IPython.core.display.HTML object>"
            ]
          },
          "metadata": {},
          "output_type": "display_data"
        }
      ],
      "source": [
        "joined_table.show(2)"
      ]
    },
    {
      "cell_type": "markdown",
      "metadata": {
        "id": "zgAZOxbYB56N"
      },
      "source": [
        "print minimum and maximum pm10 values?"
      ]
    },
    {
      "cell_type": "code",
      "execution_count": null,
      "metadata": {
        "colab": {
          "base_uri": "https://localhost:8080/"
        },
        "id": "19ncrqo0y8l5",
        "outputId": "e02c5cfe-c3ca-4579-ea89-a334dc7959e5"
      },
      "outputs": [
        {
          "data": {
            "text/plain": [
              "(0.0, 87341.710000000006)"
            ]
          },
          "execution_count": 16,
          "metadata": {},
          "output_type": "execute_result"
        }
      ],
      "source": [
        "pm10 = joined_table.column('pm10')\n",
        "min(pm10), max(pm10)"
      ]
    },
    {
      "cell_type": "markdown",
      "metadata": {
        "id": "kkbu-cal0QRc"
      },
      "source": [
        "#Instructions for Students\n",
        "-You task is to analyze NYC hyperlocal air quality data using the provided dataset. Complete the following tasks in your Jupyter Notebook.total of 5 marks . Use the Table abstraction."
      ]
    },
    {
      "cell_type": "markdown",
      "metadata": {
        "id": "lNeAe-ZH0eL2"
      },
      "source": [
        "# Tasks"
      ]
    },
    {
      "cell_type": "markdown",
      "metadata": {
        "id": "lTICc0fUdXNA"
      },
      "source": [
        "## <font color = blue size  = 5>**Task 1: Sampling and Empirical Distribution (1 Mark)**\n",
        "\n",
        "**Task Description:**\n",
        "\n",
        "- Randomly sample 10% of the rows from the joined_table without replacement.\n",
        "- Compute the mean pm10 value for this sample.\n",
        "- Create an empirical histogram of the pm10 values from the sampled data using 10 bins.\n",
        "- Comment on the shape of the histogram and compare it to the distribution of the full dataset."
      ]
    },
    {
      "cell_type": "markdown",
      "metadata": {
        "id": "H9u190hzeLnm"
      },
      "source": [
        "<font color = red size= 5> attention</font>\n",
        "\n",
        "remove pm10 values that are unreasonably high (above 300 µg/m³)"
      ]
    },
    {
      "cell_type": "code",
      "execution_count": null,
      "metadata": {
        "id": "iXqSs3EDd7v3"
      },
      "outputs": [],
      "source": [
        "joined_table = joined_table.where('pm10', are.below(300))"
      ]
    },
    {
      "cell_type": "code",
      "execution_count": null,
      "metadata": {
        "id": "XBQxvwlie-pc",
        "outputId": "07ac6ca0-a984-49bd-be64-c9730a668ee9"
      },
      "outputs": [
        {
          "data": {
            "text/plain": [
              "2"
            ]
          },
          "execution_count": 18,
          "metadata": {},
          "output_type": "execute_result"
        }
      ],
      "source": [
        "len(joined_table)"
      ]
    },
    {
      "cell_type": "code",
      "execution_count": null,
      "metadata": {
        "id": "kLHMmWdHe6rg",
        "outputId": "534c53b6-a702-40dc-93ec-ce2d7b2274d4"
      },
      "outputs": [
        {
          "data": {
            "text/plain": [
              "117356"
            ]
          },
          "execution_count": 19,
          "metadata": {},
          "output_type": "execute_result"
        }
      ],
      "source": [
        "joined_table.num_rows"
      ]
    },
    {
      "cell_type": "code",
      "execution_count": null,
      "metadata": {
        "id": "ew-yWbgYH5ip"
      },
      "outputs": [],
      "source": [
        "# Sampling 10% of rows from the table\n",
        "sampled_rows = joined_table.sample(int(0.10 * joined_table.num_rows), with_replacement=False)"
      ]
    },
    {
      "cell_type": "code",
      "execution_count": null,
      "metadata": {
        "id": "DoQJa5a_H5iv",
        "outputId": "7e7aadc8-ba0d-4a6f-ce47-7ddd4ebf2d14"
      },
      "outputs": [
        {
          "data": {
            "text/html": [
              "<table border=\"1\" class=\"dataframe\">\n",
              "    <thead>\n",
              "        <tr>\n",
              "            <th>pm10</th> <th>neighborhood</th>\n",
              "        </tr>\n",
              "    </thead>\n",
              "    <tbody>\n",
              "        <tr>\n",
              "            <td>1.1  </td> <td>Bronx Park  </td>\n",
              "        </tr>\n",
              "        <tr>\n",
              "            <td>4.62 </td> <td>Bronx Park  </td>\n",
              "        </tr>\n",
              "        <tr>\n",
              "            <td>0.05 </td> <td>Bronx Park  </td>\n",
              "        </tr>\n",
              "        <tr>\n",
              "            <td>2.96 </td> <td>Hunts Point </td>\n",
              "        </tr>\n",
              "        <tr>\n",
              "            <td>22.54</td> <td>Bronx Park  </td>\n",
              "        </tr>\n",
              "        <tr>\n",
              "            <td>39.67</td> <td>Longwood    </td>\n",
              "        </tr>\n",
              "        <tr>\n",
              "            <td>0.77 </td> <td>Longwood    </td>\n",
              "        </tr>\n",
              "        <tr>\n",
              "            <td>0.13 </td> <td>Bronx Park  </td>\n",
              "        </tr>\n",
              "        <tr>\n",
              "            <td>22.22</td> <td>Longwood    </td>\n",
              "        </tr>\n",
              "        <tr>\n",
              "            <td>0.46 </td> <td>Van Nest    </td>\n",
              "        </tr>\n",
              "    </tbody>\n",
              "</table>\n",
              "<p>... (11725 rows omitted)</p>"
            ],
            "text/plain": [
              "pm10  | neighborhood\n",
              "1.1   | Bronx Park\n",
              "4.62  | Bronx Park\n",
              "0.05  | Bronx Park\n",
              "2.96  | Hunts Point\n",
              "22.54 | Bronx Park\n",
              "39.67 | Longwood\n",
              "0.77  | Longwood\n",
              "0.13  | Bronx Park\n",
              "22.22 | Longwood\n",
              "0.46  | Van Nest\n",
              "... (11725 rows omitted)"
            ]
          },
          "execution_count": 21,
          "metadata": {},
          "output_type": "execute_result"
        }
      ],
      "source": [
        "sampled_rows"
      ]
    },
    {
      "cell_type": "code",
      "execution_count": null,
      "metadata": {
        "id": "PkEtkSdzH5iv",
        "outputId": "d8b0da9a-8b72-4d3f-c5f5-c0d3ff49623e"
      },
      "outputs": [
        {
          "data": {
            "text/plain": [
              "15.746624627183641"
            ]
          },
          "execution_count": 22,
          "metadata": {},
          "output_type": "execute_result"
        }
      ],
      "source": [
        "# Computing the mean pm10 for the sample\n",
        "sample_mean_pm10 = np.mean(sampled_rows.column('pm10'))\n",
        "sample_mean_pm10"
      ]
    },
    {
      "cell_type": "code",
      "execution_count": null,
      "metadata": {
        "id": "naD4_Zi7H5iv",
        "outputId": "d21d2c42-c5d6-4871-fce6-8e0d66afa804"
      },
      "outputs": [
        {
          "data": {
            "image/png": "[encoded data removed]",
            "text/plain": [
              "<Figure size 432x288 with 1 Axes>"
            ]
          },
          "metadata": {},
          "output_type": "display_data"
        }
      ],
      "source": [
        "# Creating an empirical histogram of the sampled data using 10 bins\n",
        "sampled_rows.select('pm10').hist(bins=np.arange(0, 300, 300/10))"
      ]
    },
    {
      "cell_type": "code",
      "execution_count": null,
      "metadata": {
        "id": "hN6_eFcmH5iv",
        "outputId": "2843523e-6c46-4a04-9b88-a7f5a7af7b14"
      },
      "outputs": [
        {
          "data": {
            "image/png": "[encoded data removed]",
            "text/plain": [
              "<Figure size 432x288 with 1 Axes>"
            ]
          },
          "metadata": {},
          "output_type": "display_data"
        }
      ],
      "source": [
        "# Population histogram of pm10 values\n",
        "joined_table.select('pm10').hist(bins=np.arange(0, 300, 300/10))"
      ]
    },
    {
      "cell_type": "code",
      "execution_count": null,
      "metadata": {
        "id": "zHvFvhx8H5iw"
      },
      "outputs": [],
      "source": [
        "# COMMENT\n",
        "# The distribution of the empirical histogram is highly skewed to the left, and it shows that most pm10 values are between 0 to 25\n",
        "# In comparison to the population histogram of pm10 values, the empirical histogram looks very similar, which indicates that it represents\n",
        "# the mean pm10 distribution from the population very well, which is supported\n",
        "# by the law of averages"
      ]
    },
    {
      "cell_type": "markdown",
      "metadata": {
        "id": "CuJ4xIHXeZXZ"
      },
      "source": [
        "## <font color = blue size  = 5> **Task 2: Estimation and Confidence Intervals (1 Mark)**\n"
      ]
    },
    {
      "cell_type": "markdown",
      "metadata": {
        "id": "w3fxSNsIq7RT"
      },
      "source": [
        "**Task Description:**\n",
        "- Use the bootstrap method to estimate the median pm10 value for the entire dataset.\n",
        "- Generate 5,000 bootstrap samples and compute the median for each sample.\n",
        "- Construct a 95% confidence interval for the population median using the 2.5th and 97.5th percentiles of the bootstrapped medians.\n",
        "- Visualize the results by drawing an `empirical histogram` of the bootstrapped medians and overlaying the confidence interval on the horizontal axis.\n",
        "- Report the confidence interval and interpret what it means in the context of air quality."
      ]
    },
    {
      "cell_type": "code",
      "execution_count": null,
      "metadata": {
        "id": "sPAjjr4MH5iw"
      },
      "outputs": [],
      "source": [
        "# Defining a function that will get one sample from the population\n",
        "# Default function values mean that the sampling will be the same size as the original sample size\n",
        "# Using sampled_rows to bootstrap from\n",
        "\n",
        "def one_pm10_median():\n",
        "  one_sample = sampled_rows.sample()\n",
        "  return percentile(50, one_sample.column('pm10'))\n"
      ]
    },
    {
      "cell_type": "code",
      "execution_count": null,
      "metadata": {
        "id": "QEefPKLRH5iw"
      },
      "outputs": [],
      "source": [
        "# Generating 5000 bootstrap samples\n",
        "bootstrap_medians_pm10 = make_array()\n",
        "for i in np.arange(5000):\n",
        "  bootstrap_medians_pm10 = np.append(bootstrap_medians_pm10, one_pm10_median())"
      ]
    },
    {
      "cell_type": "code",
      "execution_count": null,
      "metadata": {
        "id": "m05BsLKoH5iw",
        "outputId": "bd237257-50b7-4690-b5be-3b8a76b032ac"
      },
      "outputs": [
        {
          "name": "stdout",
          "output_type": "stream",
          "text": [
            "2.96   3.17\n"
          ]
        }
      ],
      "source": [
        "# Constructing a 95% confidence interval\n",
        "left = percentile(2.5, bootstrap_medians_pm10)\n",
        "right = percentile(97.5, bootstrap_medians_pm10)\n",
        "print(left, ' ', right)"
      ]
    },
    {
      "cell_type": "code",
      "execution_count": null,
      "metadata": {
        "id": "Ny3VXbp9H5iw",
        "outputId": "50611f72-0110-49c8-c900-03d924a4f5f1"
      },
      "outputs": [
        {
          "data": {
            "text/plain": [
              "[<matplotlib.lines.Line2D at 0x7f5b88a31600>]"
            ]
          },
          "execution_count": 80,
          "metadata": {},
          "output_type": "execute_result"
        },
        {
          "data": {
            "image/png": "[encoded data removed]",
            "text/plain": [
              "<Figure size 432x288 with 1 Axes>"
            ]
          },
          "metadata": {},
          "output_type": "display_data"
        }
      ],
      "source": [
        "# Visualizing results as an empirical histogram with confidence intervals\n",
        "bootstrap_medians_pm10_table = Table().with_column('pm10 medians', bootstrap_medians_pm10)\n",
        "bootstrap_medians_pm10_table.hist(bins=np.arange(2.7, 3.3, 0.02))\n",
        "plt.plot([left, right], [0, 0], color='yellow', lw=7, zorder=1)# Generating 5000 bootstrap samples"
      ]
    },
    {
      "cell_type": "code",
      "execution_count": null,
      "metadata": {
        "id": "iLomQNJSH5ix"
      },
      "outputs": [],
      "source": [
        "# COMMENT\n",
        "# Based on the computed confidence interval, it can be inferred that\n",
        "# the median pm10 is estimated to be between 2.96 and 3.17 with a confidence level of 95%\n",
        "# that is, we are sure that the median will be in this interval 95% of the time"
      ]
    },
    {
      "cell_type": "markdown",
      "metadata": {
        "id": "9cs7K_Q3icPX"
      },
      "source": [
        "## <font color = blue size  = 5> **Task 3: Hypothesis Testing Using Confidence Intervals (1.5 Mark)**"
      ]
    },
    {
      "cell_type": "markdown",
      "metadata": {
        "id": "Ukmexr5YivJC"
      },
      "source": [
        "**Task Description:**\n",
        "- Test the hypothesis about the average <font color = red size =5> `pm10` </font> level in the population using confidence intervals.\n",
        "  - Null Hypothesis (H0): The average pm10 level in the population is `20 μg/m³` .\n",
        "  - Alternative Hypothesis (Ha): The average pm10 level in the population is not `20 μg/m³` .\n",
        "- Use the confidence interval method to test this hypothesis:\n",
        "Construct a 95% confidence interval for the average `pm10` level in the population.\n",
        "  - If the confidence interval contains `20 μg/m³` , conclude that there is no significant difference from `20 μg/m³` (fail to reject H0).\n",
        "  - Otherwise, conclude that there is a significant difference (reject H0).\n",
        "- Interpret your results and explain whether the data supports the null hypothesis or the alternative hypothesis."
      ]
    },
    {
      "cell_type": "code",
      "execution_count": null,
      "metadata": {
        "id": "khG63UtDH5ix",
        "outputId": "91197703-cb7f-4946-ea8e-7871cd464005"
      },
      "outputs": [
        {
          "data": {
            "text/plain": [
              "16.172319779133577"
            ]
          },
          "execution_count": 48,
          "metadata": {},
          "output_type": "execute_result"
        }
      ],
      "source": [
        "np.mean(joined_table.column('pm10'))"
      ]
    },
    {
      "cell_type": "code",
      "execution_count": null,
      "metadata": {
        "id": "pKJNZZ3eH5ix"
      },
      "outputs": [],
      "source": [
        "# Defining a function that calculates one pm10 mean\n",
        "# using sampled_rows as the original sample to bootstrap from\n",
        "def one_pm10_mean():\n",
        "    resample = sampled_rows.sample()\n",
        "    return np.mean(resample.column('pm10'))\n"
      ]
    },
    {
      "cell_type": "code",
      "execution_count": null,
      "metadata": {
        "id": "G064-nG_H5iy"
      },
      "outputs": [],
      "source": [
        "# Generating 5000 bootstrap samples\n",
        "bootstrap_means_pm10 = make_array()\n",
        "for i in np.arange(5000):\n",
        "  bootstrap_means_pm10 = np.append(bootstrap_means_pm10, one_pm10_mean())"
      ]
    },
    {
      "cell_type": "code",
      "execution_count": null,
      "metadata": {
        "id": "W-_7ZfOQH5iy",
        "outputId": "225f1783-5abd-409d-9271-237948d54e6e"
      },
      "outputs": [
        {
          "name": "stdout",
          "output_type": "stream",
          "text": [
            "15.1096446527   16.3697631018\n"
          ]
        }
      ],
      "source": [
        "# Constructing a 95% confidence interval\n",
        "left_mean = percentile(2.5, bootstrap_means_pm10)\n",
        "right_mean = percentile(97.5, bootstrap_means_pm10)\n",
        "print(left_mean, ' ', right_mean)"
      ]
    },
    {
      "cell_type": "code",
      "execution_count": null,
      "metadata": {
        "id": "wK4pYpEsH5iy",
        "outputId": "233b326b-68ea-4dfc-f937-1eff4cf0275d"
      },
      "outputs": [
        {
          "data": {
            "text/plain": [
              "[<matplotlib.lines.Line2D at 0x7f5b88aea710>]"
            ]
          },
          "execution_count": 74,
          "metadata": {},
          "output_type": "execute_result"
        },
        {
          "data": {
            "image/png": "[encoded data removed]",
            "text/plain": [
              "<Figure size 432x288 with 1 Axes>"
            ]
          },
          "metadata": {},
          "output_type": "display_data"
        }
      ],
      "source": [
        "# Visualizing results as an empirical histogram with confidence intervals\n",
        "bootstrap_means_pm10_table = Table().with_column('pm10 means', bootstrap_means_pm10)\n",
        "bootstrap_means_pm10_table.hist(bins=np.arange(14.5, 17, 0.2))\n",
        "plt.plot([left_mean, right_mean], [0, 0], color='yellow', lw=7, zorder=1)"
      ]
    },
    {
      "cell_type": "code",
      "execution_count": null,
      "metadata": {
        "id": "RR4ARNxOH5iy"
      },
      "outputs": [],
      "source": [
        "# RESULT INTERPRETATION\n",
        "# According to the graph of pm10 means and the 95% confidence interval,\n",
        "# the mean pm10 value lies in the interval of 15.1 to 16.3 with a confidence\n",
        "# level of 95%.\n",
        "# The null hypothesis suggests that pm10 mean value is 20, but according\n",
        "# to the interpreation, there is a significant difference between the\n",
        "# mean pm10 under the null hypothesis and the 95% confidence interval\n",
        "# therefore, the null hypothesis is rejected"
      ]
    },
    {
      "cell_type": "markdown",
      "metadata": {
        "id": "A7cJxidKmB31"
      },
      "source": [
        "## <font color = blue size  = 5> **Task 4: Percentiles and Extreme Values (1.5 Mark)**\n"
      ]
    },
    {
      "cell_type": "markdown",
      "metadata": {
        "id": "x1hoJVDEoIOI"
      },
      "source": [
        "- Use the bootstrap method to simulate the mean `pm10` levels for each neighborhood. Generate 5,000 bootstrap samples for the top 3 neighborhoods with the highest mean pm10 levels.\n",
        "- Create an empirical histogram for each of these neighborhoods, showing the distribution of the bootstrapped means.\n",
        "- Overlay horizontal yellow lines to indicate the 95% confidence interval for the mean pm10 level in each neighborhood.\n"
      ]
    },
    {
      "cell_type": "code",
      "execution_count": null,
      "metadata": {
        "id": "YfhmsNB3H5iy",
        "outputId": "e2d15f04-42e0-430a-8b64-7ee307ee5981"
      },
      "outputs": [
        {
          "data": {
            "text/html": [
              "<table border=\"1\" class=\"dataframe\">\n",
              "    <thead>\n",
              "        <tr>\n",
              "            <th>neighborhood</th> <th>pm10 mean</th>\n",
              "        </tr>\n",
              "    </thead>\n",
              "    <tbody>\n",
              "        <tr>\n",
              "            <td>Astoria          </td> <td>9.95481  </td>\n",
              "        </tr>\n",
              "        <tr>\n",
              "            <td>Belmont          </td> <td>18.0775  </td>\n",
              "        </tr>\n",
              "        <tr>\n",
              "            <td>Bronx Park       </td> <td>13.5115  </td>\n",
              "        </tr>\n",
              "        <tr>\n",
              "            <td>Bronxdale        </td> <td>11.4071  </td>\n",
              "        </tr>\n",
              "        <tr>\n",
              "            <td>Civic Center     </td> <td>8.48137  </td>\n",
              "        </tr>\n",
              "        <tr>\n",
              "            <td>Claremont Village</td> <td>7.48625  </td>\n",
              "        </tr>\n",
              "        <tr>\n",
              "            <td>Concourse        </td> <td>14.8253  </td>\n",
              "        </tr>\n",
              "        <tr>\n",
              "            <td>Concourse Village</td> <td>25.4333  </td>\n",
              "        </tr>\n",
              "        <tr>\n",
              "            <td>Country Club     </td> <td>17.0025  </td>\n",
              "        </tr>\n",
              "        <tr>\n",
              "            <td>Crotona Park     </td> <td>44.9943  </td>\n",
              "        </tr>\n",
              "    </tbody>\n",
              "</table>\n",
              "<p>... (49 rows omitted)</p>"
            ],
            "text/plain": [
              "neighborhood      | pm10 mean\n",
              "Astoria           | 9.95481\n",
              "Belmont           | 18.0775\n",
              "Bronx Park        | 13.5115\n",
              "Bronxdale         | 11.4071\n",
              "Civic Center      | 8.48137\n",
              "Claremont Village | 7.48625\n",
              "Concourse         | 14.8253\n",
              "Concourse Village | 25.4333\n",
              "Country Club      | 17.0025\n",
              "Crotona Park      | 44.9943\n",
              "... (49 rows omitted)"
            ]
          },
          "execution_count": 84,
          "metadata": {},
          "output_type": "execute_result"
        }
      ],
      "source": [
        "# Compute mean pm10 for each neighborhood\n",
        "means_table = sampled_rows.group('neighborhood', np.mean)\n",
        "means_table"
      ]
    },
    {
      "cell_type": "code",
      "execution_count": null,
      "metadata": {
        "id": "i5nKHivFH5iz",
        "outputId": "cfc0fd45-de21-408a-bb6a-e8defad5d2bd"
      },
      "outputs": [
        {
          "data": {
            "text/html": [
              "<table border=\"1\" class=\"dataframe\">\n",
              "    <thead>\n",
              "        <tr>\n",
              "            <th>neighborhood</th> <th>pm10 mean</th>\n",
              "        </tr>\n",
              "    </thead>\n",
              "    <tbody>\n",
              "        <tr>\n",
              "            <td>Crotona Park     </td> <td>44.9943  </td>\n",
              "        </tr>\n",
              "        <tr>\n",
              "            <td>Concourse Village</td> <td>25.4333  </td>\n",
              "        </tr>\n",
              "        <tr>\n",
              "            <td>Morris Park      </td> <td>22.6767  </td>\n",
              "        </tr>\n",
              "    </tbody>\n",
              "</table>"
            ],
            "text/plain": [
              "neighborhood      | pm10 mean\n",
              "Crotona Park      | 44.9943\n",
              "Concourse Village | 25.4333\n",
              "Morris Park       | 22.6767"
            ]
          },
          "execution_count": 85,
          "metadata": {},
          "output_type": "execute_result"
        }
      ],
      "source": [
        "top3 = means_table.sort('pm10 mean', descending=True).take(np.arange(3))\n",
        "top3_neighborhoods = top3.column('neighborhood')\n",
        "top3"
      ]
    },
    {
      "cell_type": "code",
      "execution_count": null,
      "metadata": {
        "id": "6nJCG8epH5iz"
      },
      "outputs": [],
      "source": [
        "def bootstrap_means(neighborhood_name):\n",
        "    subset = sampled_rows.where('neighborhood', neighborhood_name)\n",
        "    means = []\n",
        "    for i in range(5000):\n",
        "        sample = subset.sample()\n",
        "        means.append(np.mean(sample.column('pm10')))\n",
        "    return np.array(means)"
      ]
    },
    {
      "cell_type": "code",
      "execution_count": null,
      "metadata": {
        "id": "BX69Sd9oH5iz",
        "outputId": "52057289-ec59-40ce-b900-2b612ce503b5"
      },
      "outputs": [
        {
          "data": {
            "image/png": "[encoded data removed]",
            "text/plain": [
              "<Figure size 432x288 with 1 Axes>"
            ]
          },
          "metadata": {},
          "output_type": "display_data"
        },
        {
          "data": {
            "image/png": "[encoded data removed]",
            "text/plain": [
              "<Figure size 432x288 with 1 Axes>"
            ]
          },
          "metadata": {},
          "output_type": "display_data"
        },
        {
          "data": {
            "image/png": "[encoded data removed]",
            "text/plain": [
              "<Figure size 432x288 with 1 Axes>"
            ]
          },
          "metadata": {},
          "output_type": "display_data"
        }
      ],
      "source": [
        "for i in np.arange(3):\n",
        "    neighborhood = top3_neighborhoods.item(i)\n",
        "    boot_means = bootstrap_means(neighborhood)\n",
        "\n",
        "    mean_neighbourhood_left = percentile(2.5, boot_means)\n",
        "    mean_neighbourhood_right = percentile(97.5, boot_means, )\n",
        "\n",
        "    # Create a temporary Table for plotting\n",
        "    boot_means_table = Table().with_column('Bootstrap Means', boot_means)\n",
        "\n",
        "    # Subplot\n",
        "    boot_means_table.hist('Bootstrap Means', bins=30)\n",
        "    plt.plot([mean_neighbourhood_left, mean_neighbourhood_right], [0, 0], color='yellow', lw=7, zorder=1)\n",
        "    plt.title(f'Bootstrap Means: {neighborhood}')\n",
        "    plt.xlabel('Mean PM10')\n",
        "    plt.ylabel('Frequency')\n",
        "\n",
        "plt.show()"
      ]
    },
    {
      "cell_type": "markdown",
      "metadata": {
        "id": "kM16Gy602H1X"
      },
      "source": [
        "# Submission Guidelines\n",
        "- Add a \"Open in Colab\" button at the top of your notebook using the following Markdown code:\n",
        "[![Open In Colab](https://colab.research.google.com/assets/colab-badge.svg)](https://colab.research.google.com/github/your-repo-path/notebook.ipynb)\n",
        "\n",
        "- Upload your completed Jupyter Notebook to a GitHub repository.\n",
        "- Submit the link to your GitHub repository in the Blackboard LMS along with the Jupyter solution file.\n",
        "- <font color = red size = 6> ATTENTION!!! </font> Students are encouraged to work on groups, however the submission should be individual and each student should have her/his own unique final assignment solution, which is to be submitted in BB"
      ]
    },
    {
      "cell_type": "markdown",
      "metadata": {
        "id": "dY2-OB4A2huX"
      },
      "source": [
        "# Grading Rubric\n",
        "based on the following criteria:\n",
        "\n",
        "- Correctness : The solution produces the expected output using the Table abstraction .\n",
        "- Clarity : Code is well-organized, readable, and includes comments explaining key steps.\n",
        "- Creativity : Visualizations and analyses are presented in an engaging and insightful manner."
      ]
    },
    {
      "cell_type": "markdown",
      "metadata": {
        "id": "0GlfWQnV2r9v"
      },
      "source": [
        "# Hints for Success\n",
        "- Use the Table abstraction methods like .select(), .where(), .group(), .apply(), and .sample() for data manipulation.\n",
        "- Refer to the slides and examples from book Chapters 10, 11, and 13, for guidance on Sampling and Empirical Distributions, Testing Hypotheses,  and Estimation.\n",
        "- Test your code frequently to ensure it runs without errors."
      ]
    }
  ],
  "metadata": {
    "colab": {
      "provenance": [],
      "include_colab_link": true
    },
    "kernelspec": {
      "display_name": "Python 3",
      "name": "python3"
    },
    "language_info": {
      "codemirror_mode": {
        "name": "ipython",
        "version": 3
      },
      "file_extension": ".py",
      "mimetype": "text/x-python",
      "name": "python",
      "nbconvert_exporter": "python",
      "pygments_lexer": "ipython3",
      "version": "3.10.12"
    }
  },
  "nbformat": 4,
  "nbformat_minor": 0
}